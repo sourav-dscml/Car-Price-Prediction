{
 "cells": [
  {
   "cell_type": "markdown",
   "metadata": {},
   "source": [
    "# Car Price Prediction (Hackathon organised by TheMathCompany)"
   ]
  },
  {
   "cell_type": "markdown",
   "metadata": {},
   "source": [
    "With the rise in the variety of cars with differentiated capabilities and features such as model, production year, category, brand, fuel type, engine volume, mileage, cylinders, colour, airbags and many more, we are bringing a car price prediction challenge for all. We all aspire to own a car within budget with the best features available. To solve the price problem we have created a dataset of 19237 for the training dataset and 8245 for the test dataset."
   ]
  },
  {
   "cell_type": "code",
   "execution_count": 1,
   "metadata": {},
   "outputs": [],
   "source": [
    "#importing packages\n",
    "import pandas as pd\n",
    "import numpy as np\n",
    "import matplotlib.pyplot as plt\n",
    "import seaborn as sns\n",
    "\n",
    "from hyperopt import hp,fmin, tpe, Trials\n",
    "from hyperopt.pyll.base import scope\n",
    "from xgboost import XGBRegressor\n",
    "from functools import partial\n",
    "from sklearn import model_selection\n",
    "from sklearn.metrics import r2_score, mean_squared_log_error\n",
    "\n",
    "import warnings\n",
    "warnings.filterwarnings('ignore')"
   ]
  },
  {
   "cell_type": "code",
   "execution_count": 2,
   "metadata": {},
   "outputs": [],
   "source": [
    "#Loading datasets\n",
    "train_all = pd.read_csv(\"train.csv\")\n",
    "test_all = pd.read_csv(\"test.csv\")"
   ]
  },
  {
   "cell_type": "code",
   "execution_count": 3,
   "metadata": {},
   "outputs": [
    {
     "data": {
      "text/html": [
       "<div>\n",
       "<style scoped>\n",
       "    .dataframe tbody tr th:only-of-type {\n",
       "        vertical-align: middle;\n",
       "    }\n",
       "\n",
       "    .dataframe tbody tr th {\n",
       "        vertical-align: top;\n",
       "    }\n",
       "\n",
       "    .dataframe thead th {\n",
       "        text-align: right;\n",
       "    }\n",
       "</style>\n",
       "<table border=\"1\" class=\"dataframe\">\n",
       "  <thead>\n",
       "    <tr style=\"text-align: right;\">\n",
       "      <th></th>\n",
       "      <th>ID</th>\n",
       "      <th>Price</th>\n",
       "      <th>Levy</th>\n",
       "      <th>Manufacturer</th>\n",
       "      <th>Model</th>\n",
       "      <th>Prod. year</th>\n",
       "      <th>Category</th>\n",
       "      <th>Leather interior</th>\n",
       "      <th>Fuel type</th>\n",
       "      <th>Engine volume</th>\n",
       "      <th>Mileage</th>\n",
       "      <th>Cylinders</th>\n",
       "      <th>Gear box type</th>\n",
       "      <th>Drive wheels</th>\n",
       "      <th>Doors</th>\n",
       "      <th>Wheel</th>\n",
       "      <th>Color</th>\n",
       "      <th>Airbags</th>\n",
       "    </tr>\n",
       "  </thead>\n",
       "  <tbody>\n",
       "    <tr>\n",
       "      <th>0</th>\n",
       "      <td>45654403</td>\n",
       "      <td>13328</td>\n",
       "      <td>1399</td>\n",
       "      <td>LEXUS</td>\n",
       "      <td>RX 450</td>\n",
       "      <td>2010</td>\n",
       "      <td>Jeep</td>\n",
       "      <td>Yes</td>\n",
       "      <td>Hybrid</td>\n",
       "      <td>3.5</td>\n",
       "      <td>186005 km</td>\n",
       "      <td>6.0</td>\n",
       "      <td>Automatic</td>\n",
       "      <td>4x4</td>\n",
       "      <td>04-May</td>\n",
       "      <td>Left wheel</td>\n",
       "      <td>Silver</td>\n",
       "      <td>12</td>\n",
       "    </tr>\n",
       "    <tr>\n",
       "      <th>1</th>\n",
       "      <td>44731507</td>\n",
       "      <td>16621</td>\n",
       "      <td>1018</td>\n",
       "      <td>CHEVROLET</td>\n",
       "      <td>Equinox</td>\n",
       "      <td>2011</td>\n",
       "      <td>Jeep</td>\n",
       "      <td>No</td>\n",
       "      <td>Petrol</td>\n",
       "      <td>3</td>\n",
       "      <td>192000 km</td>\n",
       "      <td>6.0</td>\n",
       "      <td>Tiptronic</td>\n",
       "      <td>4x4</td>\n",
       "      <td>04-May</td>\n",
       "      <td>Left wheel</td>\n",
       "      <td>Black</td>\n",
       "      <td>8</td>\n",
       "    </tr>\n",
       "    <tr>\n",
       "      <th>2</th>\n",
       "      <td>45774419</td>\n",
       "      <td>8467</td>\n",
       "      <td>-</td>\n",
       "      <td>HONDA</td>\n",
       "      <td>FIT</td>\n",
       "      <td>2006</td>\n",
       "      <td>Hatchback</td>\n",
       "      <td>No</td>\n",
       "      <td>Petrol</td>\n",
       "      <td>1.3</td>\n",
       "      <td>200000 km</td>\n",
       "      <td>4.0</td>\n",
       "      <td>Variator</td>\n",
       "      <td>Front</td>\n",
       "      <td>04-May</td>\n",
       "      <td>Right-hand drive</td>\n",
       "      <td>Black</td>\n",
       "      <td>2</td>\n",
       "    </tr>\n",
       "    <tr>\n",
       "      <th>3</th>\n",
       "      <td>45769185</td>\n",
       "      <td>3607</td>\n",
       "      <td>862</td>\n",
       "      <td>FORD</td>\n",
       "      <td>Escape</td>\n",
       "      <td>2011</td>\n",
       "      <td>Jeep</td>\n",
       "      <td>Yes</td>\n",
       "      <td>Hybrid</td>\n",
       "      <td>2.5</td>\n",
       "      <td>168966 km</td>\n",
       "      <td>4.0</td>\n",
       "      <td>Automatic</td>\n",
       "      <td>4x4</td>\n",
       "      <td>04-May</td>\n",
       "      <td>Left wheel</td>\n",
       "      <td>White</td>\n",
       "      <td>0</td>\n",
       "    </tr>\n",
       "    <tr>\n",
       "      <th>4</th>\n",
       "      <td>45809263</td>\n",
       "      <td>11726</td>\n",
       "      <td>446</td>\n",
       "      <td>HONDA</td>\n",
       "      <td>FIT</td>\n",
       "      <td>2014</td>\n",
       "      <td>Hatchback</td>\n",
       "      <td>Yes</td>\n",
       "      <td>Petrol</td>\n",
       "      <td>1.3</td>\n",
       "      <td>91901 km</td>\n",
       "      <td>4.0</td>\n",
       "      <td>Automatic</td>\n",
       "      <td>Front</td>\n",
       "      <td>04-May</td>\n",
       "      <td>Left wheel</td>\n",
       "      <td>Silver</td>\n",
       "      <td>4</td>\n",
       "    </tr>\n",
       "  </tbody>\n",
       "</table>\n",
       "</div>"
      ],
      "text/plain": [
       "         ID  Price  Levy Manufacturer    Model  Prod. year   Category  \\\n",
       "0  45654403  13328  1399        LEXUS   RX 450        2010       Jeep   \n",
       "1  44731507  16621  1018    CHEVROLET  Equinox        2011       Jeep   \n",
       "2  45774419   8467     -        HONDA      FIT        2006  Hatchback   \n",
       "3  45769185   3607   862         FORD   Escape        2011       Jeep   \n",
       "4  45809263  11726   446        HONDA      FIT        2014  Hatchback   \n",
       "\n",
       "  Leather interior Fuel type Engine volume    Mileage  Cylinders  \\\n",
       "0              Yes    Hybrid           3.5  186005 km        6.0   \n",
       "1               No    Petrol             3  192000 km        6.0   \n",
       "2               No    Petrol           1.3  200000 km        4.0   \n",
       "3              Yes    Hybrid           2.5  168966 km        4.0   \n",
       "4              Yes    Petrol           1.3   91901 km        4.0   \n",
       "\n",
       "  Gear box type Drive wheels   Doors             Wheel   Color  Airbags  \n",
       "0     Automatic          4x4  04-May        Left wheel  Silver       12  \n",
       "1     Tiptronic          4x4  04-May        Left wheel   Black        8  \n",
       "2      Variator        Front  04-May  Right-hand drive   Black        2  \n",
       "3     Automatic          4x4  04-May        Left wheel   White        0  \n",
       "4     Automatic        Front  04-May        Left wheel  Silver        4  "
      ]
     },
     "execution_count": 3,
     "metadata": {},
     "output_type": "execute_result"
    }
   ],
   "source": [
    "#Lets look at the traning set\n",
    "train_all.head()"
   ]
  },
  {
   "cell_type": "code",
   "execution_count": 4,
   "metadata": {},
   "outputs": [
    {
     "data": {
      "text/html": [
       "<div>\n",
       "<style scoped>\n",
       "    .dataframe tbody tr th:only-of-type {\n",
       "        vertical-align: middle;\n",
       "    }\n",
       "\n",
       "    .dataframe tbody tr th {\n",
       "        vertical-align: top;\n",
       "    }\n",
       "\n",
       "    .dataframe thead th {\n",
       "        text-align: right;\n",
       "    }\n",
       "</style>\n",
       "<table border=\"1\" class=\"dataframe\">\n",
       "  <thead>\n",
       "    <tr style=\"text-align: right;\">\n",
       "      <th></th>\n",
       "      <th>ID</th>\n",
       "      <th>Levy</th>\n",
       "      <th>Manufacturer</th>\n",
       "      <th>Model</th>\n",
       "      <th>Prod. year</th>\n",
       "      <th>Category</th>\n",
       "      <th>Leather interior</th>\n",
       "      <th>Fuel type</th>\n",
       "      <th>Engine volume</th>\n",
       "      <th>Mileage</th>\n",
       "      <th>Cylinders</th>\n",
       "      <th>Gear box type</th>\n",
       "      <th>Drive wheels</th>\n",
       "      <th>Doors</th>\n",
       "      <th>Wheel</th>\n",
       "      <th>Color</th>\n",
       "      <th>Airbags</th>\n",
       "      <th>Price</th>\n",
       "    </tr>\n",
       "  </thead>\n",
       "  <tbody>\n",
       "    <tr>\n",
       "      <th>0</th>\n",
       "      <td>44020629</td>\n",
       "      <td>-</td>\n",
       "      <td>VOLKSWAGEN</td>\n",
       "      <td>Golf</td>\n",
       "      <td>2012</td>\n",
       "      <td>Hatchback</td>\n",
       "      <td>No</td>\n",
       "      <td>Diesel</td>\n",
       "      <td>2.0 Turbo</td>\n",
       "      <td>0 km</td>\n",
       "      <td>4</td>\n",
       "      <td>Manual</td>\n",
       "      <td>Front</td>\n",
       "      <td>02-Mar</td>\n",
       "      <td>Left wheel</td>\n",
       "      <td>Grey</td>\n",
       "      <td>10</td>\n",
       "      <td>NaN</td>\n",
       "    </tr>\n",
       "    <tr>\n",
       "      <th>1</th>\n",
       "      <td>45784798</td>\n",
       "      <td>-</td>\n",
       "      <td>HYUNDAI</td>\n",
       "      <td>Sonata</td>\n",
       "      <td>2012</td>\n",
       "      <td>Sedan</td>\n",
       "      <td>Yes</td>\n",
       "      <td>Petrol</td>\n",
       "      <td>2.4</td>\n",
       "      <td>26000 km</td>\n",
       "      <td>4</td>\n",
       "      <td>Tiptronic</td>\n",
       "      <td>Front</td>\n",
       "      <td>04-May</td>\n",
       "      <td>Left wheel</td>\n",
       "      <td>Grey</td>\n",
       "      <td>10</td>\n",
       "      <td>NaN</td>\n",
       "    </tr>\n",
       "    <tr>\n",
       "      <th>2</th>\n",
       "      <td>45800257</td>\n",
       "      <td>-</td>\n",
       "      <td>NISSAN</td>\n",
       "      <td>Tiida</td>\n",
       "      <td>2005</td>\n",
       "      <td>Sedan</td>\n",
       "      <td>No</td>\n",
       "      <td>Petrol</td>\n",
       "      <td>1.5</td>\n",
       "      <td>168000 km</td>\n",
       "      <td>4</td>\n",
       "      <td>Automatic</td>\n",
       "      <td>Front</td>\n",
       "      <td>04-May</td>\n",
       "      <td>Right-hand drive</td>\n",
       "      <td>Sky blue</td>\n",
       "      <td>8</td>\n",
       "      <td>NaN</td>\n",
       "    </tr>\n",
       "    <tr>\n",
       "      <th>3</th>\n",
       "      <td>45797981</td>\n",
       "      <td>975</td>\n",
       "      <td>VOLVO</td>\n",
       "      <td>XC90</td>\n",
       "      <td>2012</td>\n",
       "      <td>Jeep</td>\n",
       "      <td>Yes</td>\n",
       "      <td>Petrol</td>\n",
       "      <td>3.2</td>\n",
       "      <td>143000 km</td>\n",
       "      <td>6</td>\n",
       "      <td>Automatic</td>\n",
       "      <td>4x4</td>\n",
       "      <td>04-May</td>\n",
       "      <td>Left wheel</td>\n",
       "      <td>Blue</td>\n",
       "      <td>12</td>\n",
       "      <td>NaN</td>\n",
       "    </tr>\n",
       "    <tr>\n",
       "      <th>4</th>\n",
       "      <td>45814303</td>\n",
       "      <td>-</td>\n",
       "      <td>OPEL</td>\n",
       "      <td>Astra</td>\n",
       "      <td>1993</td>\n",
       "      <td>Hatchback</td>\n",
       "      <td>No</td>\n",
       "      <td>Petrol</td>\n",
       "      <td>1.6</td>\n",
       "      <td>200000 km</td>\n",
       "      <td>4</td>\n",
       "      <td>Manual</td>\n",
       "      <td>Front</td>\n",
       "      <td>04-May</td>\n",
       "      <td>Left wheel</td>\n",
       "      <td>Black</td>\n",
       "      <td>0</td>\n",
       "      <td>NaN</td>\n",
       "    </tr>\n",
       "  </tbody>\n",
       "</table>\n",
       "</div>"
      ],
      "text/plain": [
       "         ID Levy Manufacturer   Model  Prod. year   Category Leather interior  \\\n",
       "0  44020629    -   VOLKSWAGEN    Golf        2012  Hatchback               No   \n",
       "1  45784798    -      HYUNDAI  Sonata        2012      Sedan              Yes   \n",
       "2  45800257    -       NISSAN   Tiida        2005      Sedan               No   \n",
       "3  45797981  975        VOLVO    XC90        2012       Jeep              Yes   \n",
       "4  45814303    -         OPEL   Astra        1993  Hatchback               No   \n",
       "\n",
       "  Fuel type Engine volume    Mileage  Cylinders Gear box type Drive wheels  \\\n",
       "0    Diesel     2.0 Turbo       0 km          4        Manual        Front   \n",
       "1    Petrol           2.4   26000 km          4     Tiptronic        Front   \n",
       "2    Petrol           1.5  168000 km          4     Automatic        Front   \n",
       "3    Petrol           3.2  143000 km          6     Automatic          4x4   \n",
       "4    Petrol           1.6  200000 km          4        Manual        Front   \n",
       "\n",
       "    Doors             Wheel     Color  Airbags  Price  \n",
       "0  02-Mar        Left wheel      Grey       10    NaN  \n",
       "1  04-May        Left wheel      Grey       10    NaN  \n",
       "2  04-May  Right-hand drive  Sky blue        8    NaN  \n",
       "3  04-May        Left wheel      Blue       12    NaN  \n",
       "4  04-May        Left wheel     Black        0    NaN  "
      ]
     },
     "execution_count": 4,
     "metadata": {},
     "output_type": "execute_result"
    }
   ],
   "source": [
    "#Lets look at the test set\n",
    "test_all.head()"
   ]
  },
  {
   "cell_type": "code",
   "execution_count": 5,
   "metadata": {},
   "outputs": [
    {
     "data": {
      "text/plain": [
       "ID                  0.0\n",
       "Price               0.0\n",
       "Levy                0.0\n",
       "Manufacturer        0.0\n",
       "Model               0.0\n",
       "Prod. year          0.0\n",
       "Category            0.0\n",
       "Leather interior    0.0\n",
       "Fuel type           0.0\n",
       "Engine volume       0.0\n",
       "Mileage             0.0\n",
       "Cylinders           0.0\n",
       "Gear box type       0.0\n",
       "Drive wheels        0.0\n",
       "Doors               0.0\n",
       "Wheel               0.0\n",
       "Color               0.0\n",
       "Airbags             0.0\n",
       "dtype: float64"
      ]
     },
     "execution_count": 5,
     "metadata": {},
     "output_type": "execute_result"
    }
   ],
   "source": [
    "#Checking for null in train\n",
    "train_all.isnull().mean()"
   ]
  },
  {
   "cell_type": "code",
   "execution_count": 6,
   "metadata": {},
   "outputs": [
    {
     "data": {
      "text/plain": [
       "ID                  0.0\n",
       "Levy                0.0\n",
       "Manufacturer        0.0\n",
       "Model               0.0\n",
       "Prod. year          0.0\n",
       "Category            0.0\n",
       "Leather interior    0.0\n",
       "Fuel type           0.0\n",
       "Engine volume       0.0\n",
       "Mileage             0.0\n",
       "Cylinders           0.0\n",
       "Gear box type       0.0\n",
       "Drive wheels        0.0\n",
       "Doors               0.0\n",
       "Wheel               0.0\n",
       "Color               0.0\n",
       "Airbags             0.0\n",
       "Price               1.0\n",
       "dtype: float64"
      ]
     },
     "execution_count": 6,
     "metadata": {},
     "output_type": "execute_result"
    }
   ],
   "source": [
    "#Checking for null in test\n",
    "test_all.isnull().mean()"
   ]
  },
  {
   "cell_type": "markdown",
   "metadata": {},
   "source": [
    "## Data Cleaning"
   ]
  },
  {
   "cell_type": "code",
   "execution_count": 7,
   "metadata": {},
   "outputs": [],
   "source": [
    "#I observed that in some cases Levy vaue is '-'. I assume that means Levy is not present. Thus, replacing that with 0\n",
    "\n",
    "train_all['Levy']=train_all.Levy.apply(lambda x : 0 if x=='-' else int(x))\n",
    "test_all['Levy']=test_all.Levy.apply(lambda x : 0 if x=='-' else int(x))"
   ]
  },
  {
   "cell_type": "code",
   "execution_count": 8,
   "metadata": {},
   "outputs": [],
   "source": [
    "#From the Engine volume feature, creating new fearure Turbo, if Turbo is present in the filed\n",
    "\n",
    "train_all['Turbo']=train_all['Engine volume'].apply(lambda x : 1 if 'TURBO' in x.upper() else 0)\n",
    "test_all['Turbo']=test_all['Engine volume'].apply(lambda x : 1 if 'TURBO' in x.upper() else 0)"
   ]
  },
  {
   "cell_type": "code",
   "execution_count": 9,
   "metadata": {},
   "outputs": [],
   "source": [
    "#From the Engine volume feature,removing the word Turbo\n",
    "\n",
    "train_all['Engine volume'] = train_all['Engine volume'].apply(lambda x : float(x[:-5]) if 'TURBO' in x.upper() else float(x))\n",
    "test_all['Engine volume'] = test_all['Engine volume'].apply(lambda x : float(x[:-5]) if 'TURBO' in x.upper() else float(x))"
   ]
  },
  {
   "cell_type": "code",
   "execution_count": 10,
   "metadata": {},
   "outputs": [],
   "source": [
    "#Mileage column contains km, removing that\n",
    "\n",
    "train_all['Mileage']=train_all.Mileage.apply(lambda x : int(x[:-2]))\n",
    "test_all['Mileage']=test_all.Mileage.apply(lambda x : int(x[:-2]))"
   ]
  },
  {
   "cell_type": "code",
   "execution_count": 11,
   "metadata": {},
   "outputs": [],
   "source": [
    "#Creating new feature Age of Car\n",
    "\n",
    "train_all['Ageofcar']=train_all['Prod. year'].apply(lambda x : 2021-x)\n",
    "test_all['Ageofcar']=test_all['Prod. year'].apply(lambda x : 2021-x)"
   ]
  },
  {
   "cell_type": "markdown",
   "metadata": {},
   "source": [
    "## EDA"
   ]
  },
  {
   "cell_type": "code",
   "execution_count": 12,
   "metadata": {},
   "outputs": [
    {
     "data": {
      "text/html": [
       "<div>\n",
       "<style scoped>\n",
       "    .dataframe tbody tr th:only-of-type {\n",
       "        vertical-align: middle;\n",
       "    }\n",
       "\n",
       "    .dataframe tbody tr th {\n",
       "        vertical-align: top;\n",
       "    }\n",
       "\n",
       "    .dataframe thead th {\n",
       "        text-align: right;\n",
       "    }\n",
       "</style>\n",
       "<table border=\"1\" class=\"dataframe\">\n",
       "  <thead>\n",
       "    <tr style=\"text-align: right;\">\n",
       "      <th></th>\n",
       "      <th>ID</th>\n",
       "      <th>Price</th>\n",
       "      <th>Levy</th>\n",
       "      <th>Manufacturer</th>\n",
       "      <th>Model</th>\n",
       "      <th>Prod. year</th>\n",
       "      <th>Category</th>\n",
       "      <th>Leather interior</th>\n",
       "      <th>Fuel type</th>\n",
       "      <th>Engine volume</th>\n",
       "      <th>Mileage</th>\n",
       "      <th>Cylinders</th>\n",
       "      <th>Gear box type</th>\n",
       "      <th>Drive wheels</th>\n",
       "      <th>Doors</th>\n",
       "      <th>Wheel</th>\n",
       "      <th>Color</th>\n",
       "      <th>Airbags</th>\n",
       "      <th>Turbo</th>\n",
       "      <th>Ageofcar</th>\n",
       "    </tr>\n",
       "  </thead>\n",
       "  <tbody>\n",
       "    <tr>\n",
       "      <th>0</th>\n",
       "      <td>45654403</td>\n",
       "      <td>13328</td>\n",
       "      <td>1399</td>\n",
       "      <td>LEXUS</td>\n",
       "      <td>RX 450</td>\n",
       "      <td>2010</td>\n",
       "      <td>Jeep</td>\n",
       "      <td>Yes</td>\n",
       "      <td>Hybrid</td>\n",
       "      <td>3.5</td>\n",
       "      <td>186005</td>\n",
       "      <td>6.0</td>\n",
       "      <td>Automatic</td>\n",
       "      <td>4x4</td>\n",
       "      <td>04-May</td>\n",
       "      <td>Left wheel</td>\n",
       "      <td>Silver</td>\n",
       "      <td>12</td>\n",
       "      <td>0</td>\n",
       "      <td>11</td>\n",
       "    </tr>\n",
       "    <tr>\n",
       "      <th>1</th>\n",
       "      <td>44731507</td>\n",
       "      <td>16621</td>\n",
       "      <td>1018</td>\n",
       "      <td>CHEVROLET</td>\n",
       "      <td>Equinox</td>\n",
       "      <td>2011</td>\n",
       "      <td>Jeep</td>\n",
       "      <td>No</td>\n",
       "      <td>Petrol</td>\n",
       "      <td>3.0</td>\n",
       "      <td>192000</td>\n",
       "      <td>6.0</td>\n",
       "      <td>Tiptronic</td>\n",
       "      <td>4x4</td>\n",
       "      <td>04-May</td>\n",
       "      <td>Left wheel</td>\n",
       "      <td>Black</td>\n",
       "      <td>8</td>\n",
       "      <td>0</td>\n",
       "      <td>10</td>\n",
       "    </tr>\n",
       "    <tr>\n",
       "      <th>2</th>\n",
       "      <td>45774419</td>\n",
       "      <td>8467</td>\n",
       "      <td>0</td>\n",
       "      <td>HONDA</td>\n",
       "      <td>FIT</td>\n",
       "      <td>2006</td>\n",
       "      <td>Hatchback</td>\n",
       "      <td>No</td>\n",
       "      <td>Petrol</td>\n",
       "      <td>1.3</td>\n",
       "      <td>200000</td>\n",
       "      <td>4.0</td>\n",
       "      <td>Variator</td>\n",
       "      <td>Front</td>\n",
       "      <td>04-May</td>\n",
       "      <td>Right-hand drive</td>\n",
       "      <td>Black</td>\n",
       "      <td>2</td>\n",
       "      <td>0</td>\n",
       "      <td>15</td>\n",
       "    </tr>\n",
       "    <tr>\n",
       "      <th>3</th>\n",
       "      <td>45769185</td>\n",
       "      <td>3607</td>\n",
       "      <td>862</td>\n",
       "      <td>FORD</td>\n",
       "      <td>Escape</td>\n",
       "      <td>2011</td>\n",
       "      <td>Jeep</td>\n",
       "      <td>Yes</td>\n",
       "      <td>Hybrid</td>\n",
       "      <td>2.5</td>\n",
       "      <td>168966</td>\n",
       "      <td>4.0</td>\n",
       "      <td>Automatic</td>\n",
       "      <td>4x4</td>\n",
       "      <td>04-May</td>\n",
       "      <td>Left wheel</td>\n",
       "      <td>White</td>\n",
       "      <td>0</td>\n",
       "      <td>0</td>\n",
       "      <td>10</td>\n",
       "    </tr>\n",
       "    <tr>\n",
       "      <th>4</th>\n",
       "      <td>45809263</td>\n",
       "      <td>11726</td>\n",
       "      <td>446</td>\n",
       "      <td>HONDA</td>\n",
       "      <td>FIT</td>\n",
       "      <td>2014</td>\n",
       "      <td>Hatchback</td>\n",
       "      <td>Yes</td>\n",
       "      <td>Petrol</td>\n",
       "      <td>1.3</td>\n",
       "      <td>91901</td>\n",
       "      <td>4.0</td>\n",
       "      <td>Automatic</td>\n",
       "      <td>Front</td>\n",
       "      <td>04-May</td>\n",
       "      <td>Left wheel</td>\n",
       "      <td>Silver</td>\n",
       "      <td>4</td>\n",
       "      <td>0</td>\n",
       "      <td>7</td>\n",
       "    </tr>\n",
       "  </tbody>\n",
       "</table>\n",
       "</div>"
      ],
      "text/plain": [
       "         ID  Price  Levy Manufacturer    Model  Prod. year   Category  \\\n",
       "0  45654403  13328  1399        LEXUS   RX 450        2010       Jeep   \n",
       "1  44731507  16621  1018    CHEVROLET  Equinox        2011       Jeep   \n",
       "2  45774419   8467     0        HONDA      FIT        2006  Hatchback   \n",
       "3  45769185   3607   862         FORD   Escape        2011       Jeep   \n",
       "4  45809263  11726   446        HONDA      FIT        2014  Hatchback   \n",
       "\n",
       "  Leather interior Fuel type  Engine volume  Mileage  Cylinders Gear box type  \\\n",
       "0              Yes    Hybrid            3.5   186005        6.0     Automatic   \n",
       "1               No    Petrol            3.0   192000        6.0     Tiptronic   \n",
       "2               No    Petrol            1.3   200000        4.0      Variator   \n",
       "3              Yes    Hybrid            2.5   168966        4.0     Automatic   \n",
       "4              Yes    Petrol            1.3    91901        4.0     Automatic   \n",
       "\n",
       "  Drive wheels   Doors             Wheel   Color  Airbags  Turbo  Ageofcar  \n",
       "0          4x4  04-May        Left wheel  Silver       12      0        11  \n",
       "1          4x4  04-May        Left wheel   Black        8      0        10  \n",
       "2        Front  04-May  Right-hand drive   Black        2      0        15  \n",
       "3          4x4  04-May        Left wheel   White        0      0        10  \n",
       "4        Front  04-May        Left wheel  Silver        4      0         7  "
      ]
     },
     "execution_count": 12,
     "metadata": {},
     "output_type": "execute_result"
    }
   ],
   "source": [
    "#Now, as the data has been cleaned lets have a look at the train set\n",
    "\n",
    "train_all.head()"
   ]
  },
  {
   "cell_type": "code",
   "execution_count": 13,
   "metadata": {},
   "outputs": [
    {
     "name": "stdout",
     "output_type": "stream",
     "text": [
      "<class 'pandas.core.frame.DataFrame'>\n",
      "RangeIndex: 19237 entries, 0 to 19236\n",
      "Data columns (total 20 columns):\n",
      " #   Column            Non-Null Count  Dtype  \n",
      "---  ------            --------------  -----  \n",
      " 0   ID                19237 non-null  int64  \n",
      " 1   Price             19237 non-null  int64  \n",
      " 2   Levy              19237 non-null  int64  \n",
      " 3   Manufacturer      19237 non-null  object \n",
      " 4   Model             19237 non-null  object \n",
      " 5   Prod. year        19237 non-null  int64  \n",
      " 6   Category          19237 non-null  object \n",
      " 7   Leather interior  19237 non-null  object \n",
      " 8   Fuel type         19237 non-null  object \n",
      " 9   Engine volume     19237 non-null  float64\n",
      " 10  Mileage           19237 non-null  int64  \n",
      " 11  Cylinders         19237 non-null  float64\n",
      " 12  Gear box type     19237 non-null  object \n",
      " 13  Drive wheels      19237 non-null  object \n",
      " 14  Doors             19237 non-null  object \n",
      " 15  Wheel             19237 non-null  object \n",
      " 16  Color             19237 non-null  object \n",
      " 17  Airbags           19237 non-null  int64  \n",
      " 18  Turbo             19237 non-null  int64  \n",
      " 19  Ageofcar          19237 non-null  int64  \n",
      "dtypes: float64(2), int64(8), object(10)\n",
      "memory usage: 2.9+ MB\n"
     ]
    }
   ],
   "source": [
    "#Lets look at the datatypes\n",
    "train_all.info()"
   ]
  },
  {
   "cell_type": "code",
   "execution_count": 14,
   "metadata": {},
   "outputs": [
    {
     "data": {
      "text/html": [
       "<div>\n",
       "<style scoped>\n",
       "    .dataframe tbody tr th:only-of-type {\n",
       "        vertical-align: middle;\n",
       "    }\n",
       "\n",
       "    .dataframe tbody tr th {\n",
       "        vertical-align: top;\n",
       "    }\n",
       "\n",
       "    .dataframe thead th {\n",
       "        text-align: right;\n",
       "    }\n",
       "</style>\n",
       "<table border=\"1\" class=\"dataframe\">\n",
       "  <thead>\n",
       "    <tr style=\"text-align: right;\">\n",
       "      <th></th>\n",
       "      <th>count</th>\n",
       "      <th>mean</th>\n",
       "      <th>std</th>\n",
       "      <th>min</th>\n",
       "      <th>25%</th>\n",
       "      <th>50%</th>\n",
       "      <th>75%</th>\n",
       "      <th>max</th>\n",
       "    </tr>\n",
       "  </thead>\n",
       "  <tbody>\n",
       "    <tr>\n",
       "      <th>ID</th>\n",
       "      <td>19237.0</td>\n",
       "      <td>4.557654e+07</td>\n",
       "      <td>9.365914e+05</td>\n",
       "      <td>20746880.0</td>\n",
       "      <td>45698374.0</td>\n",
       "      <td>45772308.0</td>\n",
       "      <td>45802036.0</td>\n",
       "      <td>4.581665e+07</td>\n",
       "    </tr>\n",
       "    <tr>\n",
       "      <th>Price</th>\n",
       "      <td>19237.0</td>\n",
       "      <td>1.855593e+04</td>\n",
       "      <td>1.905813e+05</td>\n",
       "      <td>1.0</td>\n",
       "      <td>5331.0</td>\n",
       "      <td>13172.0</td>\n",
       "      <td>22075.0</td>\n",
       "      <td>2.630750e+07</td>\n",
       "    </tr>\n",
       "    <tr>\n",
       "      <th>Levy</th>\n",
       "      <td>19237.0</td>\n",
       "      <td>6.325287e+02</td>\n",
       "      <td>5.677217e+02</td>\n",
       "      <td>0.0</td>\n",
       "      <td>0.0</td>\n",
       "      <td>642.0</td>\n",
       "      <td>917.0</td>\n",
       "      <td>1.171400e+04</td>\n",
       "    </tr>\n",
       "    <tr>\n",
       "      <th>Prod. year</th>\n",
       "      <td>19237.0</td>\n",
       "      <td>2.010913e+03</td>\n",
       "      <td>5.668673e+00</td>\n",
       "      <td>1939.0</td>\n",
       "      <td>2009.0</td>\n",
       "      <td>2012.0</td>\n",
       "      <td>2015.0</td>\n",
       "      <td>2.020000e+03</td>\n",
       "    </tr>\n",
       "    <tr>\n",
       "      <th>Engine volume</th>\n",
       "      <td>19237.0</td>\n",
       "      <td>2.307990e+00</td>\n",
       "      <td>8.778045e-01</td>\n",
       "      <td>0.0</td>\n",
       "      <td>1.8</td>\n",
       "      <td>2.0</td>\n",
       "      <td>2.5</td>\n",
       "      <td>2.000000e+01</td>\n",
       "    </tr>\n",
       "    <tr>\n",
       "      <th>Mileage</th>\n",
       "      <td>19237.0</td>\n",
       "      <td>1.532236e+06</td>\n",
       "      <td>4.840387e+07</td>\n",
       "      <td>0.0</td>\n",
       "      <td>70139.0</td>\n",
       "      <td>126000.0</td>\n",
       "      <td>188888.0</td>\n",
       "      <td>2.147484e+09</td>\n",
       "    </tr>\n",
       "    <tr>\n",
       "      <th>Cylinders</th>\n",
       "      <td>19237.0</td>\n",
       "      <td>4.582991e+00</td>\n",
       "      <td>1.199933e+00</td>\n",
       "      <td>1.0</td>\n",
       "      <td>4.0</td>\n",
       "      <td>4.0</td>\n",
       "      <td>4.0</td>\n",
       "      <td>1.600000e+01</td>\n",
       "    </tr>\n",
       "    <tr>\n",
       "      <th>Airbags</th>\n",
       "      <td>19237.0</td>\n",
       "      <td>6.582627e+00</td>\n",
       "      <td>4.320168e+00</td>\n",
       "      <td>0.0</td>\n",
       "      <td>4.0</td>\n",
       "      <td>6.0</td>\n",
       "      <td>12.0</td>\n",
       "      <td>1.600000e+01</td>\n",
       "    </tr>\n",
       "    <tr>\n",
       "      <th>Turbo</th>\n",
       "      <td>19237.0</td>\n",
       "      <td>1.003795e-01</td>\n",
       "      <td>3.005131e-01</td>\n",
       "      <td>0.0</td>\n",
       "      <td>0.0</td>\n",
       "      <td>0.0</td>\n",
       "      <td>0.0</td>\n",
       "      <td>1.000000e+00</td>\n",
       "    </tr>\n",
       "    <tr>\n",
       "      <th>Ageofcar</th>\n",
       "      <td>19237.0</td>\n",
       "      <td>1.008718e+01</td>\n",
       "      <td>5.668673e+00</td>\n",
       "      <td>1.0</td>\n",
       "      <td>6.0</td>\n",
       "      <td>9.0</td>\n",
       "      <td>12.0</td>\n",
       "      <td>8.200000e+01</td>\n",
       "    </tr>\n",
       "  </tbody>\n",
       "</table>\n",
       "</div>"
      ],
      "text/plain": [
       "                 count          mean           std         min         25%  \\\n",
       "ID             19237.0  4.557654e+07  9.365914e+05  20746880.0  45698374.0   \n",
       "Price          19237.0  1.855593e+04  1.905813e+05         1.0      5331.0   \n",
       "Levy           19237.0  6.325287e+02  5.677217e+02         0.0         0.0   \n",
       "Prod. year     19237.0  2.010913e+03  5.668673e+00      1939.0      2009.0   \n",
       "Engine volume  19237.0  2.307990e+00  8.778045e-01         0.0         1.8   \n",
       "Mileage        19237.0  1.532236e+06  4.840387e+07         0.0     70139.0   \n",
       "Cylinders      19237.0  4.582991e+00  1.199933e+00         1.0         4.0   \n",
       "Airbags        19237.0  6.582627e+00  4.320168e+00         0.0         4.0   \n",
       "Turbo          19237.0  1.003795e-01  3.005131e-01         0.0         0.0   \n",
       "Ageofcar       19237.0  1.008718e+01  5.668673e+00         1.0         6.0   \n",
       "\n",
       "                      50%         75%           max  \n",
       "ID             45772308.0  45802036.0  4.581665e+07  \n",
       "Price             13172.0     22075.0  2.630750e+07  \n",
       "Levy                642.0       917.0  1.171400e+04  \n",
       "Prod. year         2012.0      2015.0  2.020000e+03  \n",
       "Engine volume         2.0         2.5  2.000000e+01  \n",
       "Mileage          126000.0    188888.0  2.147484e+09  \n",
       "Cylinders             4.0         4.0  1.600000e+01  \n",
       "Airbags               6.0        12.0  1.600000e+01  \n",
       "Turbo                 0.0         0.0  1.000000e+00  \n",
       "Ageofcar              9.0        12.0  8.200000e+01  "
      ]
     },
     "execution_count": 14,
     "metadata": {},
     "output_type": "execute_result"
    }
   ],
   "source": [
    "#Lets see the 7 point summary\n",
    "train_all.describe().T"
   ]
  },
  {
   "cell_type": "code",
   "execution_count": 15,
   "metadata": {},
   "outputs": [
    {
     "data": {
      "text/html": [
       "<div>\n",
       "<style scoped>\n",
       "    .dataframe tbody tr th:only-of-type {\n",
       "        vertical-align: middle;\n",
       "    }\n",
       "\n",
       "    .dataframe tbody tr th {\n",
       "        vertical-align: top;\n",
       "    }\n",
       "\n",
       "    .dataframe thead th {\n",
       "        text-align: right;\n",
       "    }\n",
       "</style>\n",
       "<table border=\"1\" class=\"dataframe\">\n",
       "  <thead>\n",
       "    <tr style=\"text-align: right;\">\n",
       "      <th></th>\n",
       "      <th>ID</th>\n",
       "      <th>Price</th>\n",
       "      <th>Levy</th>\n",
       "      <th>Prod. year</th>\n",
       "      <th>Engine volume</th>\n",
       "      <th>Mileage</th>\n",
       "      <th>Cylinders</th>\n",
       "      <th>Airbags</th>\n",
       "      <th>Turbo</th>\n",
       "      <th>Ageofcar</th>\n",
       "    </tr>\n",
       "  </thead>\n",
       "  <tbody>\n",
       "    <tr>\n",
       "      <th>0</th>\n",
       "      <td>45654403</td>\n",
       "      <td>13328</td>\n",
       "      <td>1399</td>\n",
       "      <td>2010</td>\n",
       "      <td>3.5</td>\n",
       "      <td>186005</td>\n",
       "      <td>6.0</td>\n",
       "      <td>12</td>\n",
       "      <td>0</td>\n",
       "      <td>11</td>\n",
       "    </tr>\n",
       "    <tr>\n",
       "      <th>1</th>\n",
       "      <td>44731507</td>\n",
       "      <td>16621</td>\n",
       "      <td>1018</td>\n",
       "      <td>2011</td>\n",
       "      <td>3.0</td>\n",
       "      <td>192000</td>\n",
       "      <td>6.0</td>\n",
       "      <td>8</td>\n",
       "      <td>0</td>\n",
       "      <td>10</td>\n",
       "    </tr>\n",
       "    <tr>\n",
       "      <th>2</th>\n",
       "      <td>45774419</td>\n",
       "      <td>8467</td>\n",
       "      <td>0</td>\n",
       "      <td>2006</td>\n",
       "      <td>1.3</td>\n",
       "      <td>200000</td>\n",
       "      <td>4.0</td>\n",
       "      <td>2</td>\n",
       "      <td>0</td>\n",
       "      <td>15</td>\n",
       "    </tr>\n",
       "    <tr>\n",
       "      <th>3</th>\n",
       "      <td>45769185</td>\n",
       "      <td>3607</td>\n",
       "      <td>862</td>\n",
       "      <td>2011</td>\n",
       "      <td>2.5</td>\n",
       "      <td>168966</td>\n",
       "      <td>4.0</td>\n",
       "      <td>0</td>\n",
       "      <td>0</td>\n",
       "      <td>10</td>\n",
       "    </tr>\n",
       "    <tr>\n",
       "      <th>4</th>\n",
       "      <td>45809263</td>\n",
       "      <td>11726</td>\n",
       "      <td>446</td>\n",
       "      <td>2014</td>\n",
       "      <td>1.3</td>\n",
       "      <td>91901</td>\n",
       "      <td>4.0</td>\n",
       "      <td>4</td>\n",
       "      <td>0</td>\n",
       "      <td>7</td>\n",
       "    </tr>\n",
       "  </tbody>\n",
       "</table>\n",
       "</div>"
      ],
      "text/plain": [
       "         ID  Price  Levy  Prod. year  Engine volume  Mileage  Cylinders  \\\n",
       "0  45654403  13328  1399        2010            3.5   186005        6.0   \n",
       "1  44731507  16621  1018        2011            3.0   192000        6.0   \n",
       "2  45774419   8467     0        2006            1.3   200000        4.0   \n",
       "3  45769185   3607   862        2011            2.5   168966        4.0   \n",
       "4  45809263  11726   446        2014            1.3    91901        4.0   \n",
       "\n",
       "   Airbags  Turbo  Ageofcar  \n",
       "0       12      0        11  \n",
       "1        8      0        10  \n",
       "2        2      0        15  \n",
       "3        0      0        10  \n",
       "4        4      0         7  "
      ]
     },
     "execution_count": 15,
     "metadata": {},
     "output_type": "execute_result"
    }
   ],
   "source": [
    "#Lets Analyse the Numerical Variables\n",
    "num_vers=[var for var in train_all.columns if train_all[var].dtypes!='O']\n",
    "train_all[num_vers].head()"
   ]
  },
  {
   "cell_type": "code",
   "execution_count": 16,
   "metadata": {},
   "outputs": [],
   "source": [
    "# We will not use ID to make our predictions, as there is one different value of the variable per each row,\n",
    "# i.e., each car in the dataset. "
   ]
  },
  {
   "cell_type": "code",
   "execution_count": 17,
   "metadata": {},
   "outputs": [
    {
     "data": {
      "text/plain": [
       "array([2010, 2011, 2006, 2014, 2016, 2013, 2007, 1999, 1997, 2018, 2008,\n",
       "       2012, 2017, 2001, 1995, 2009, 2000, 2019, 2015, 2004, 1998, 1990,\n",
       "       2005, 2003, 1985, 1996, 2002, 1993, 1992, 1988, 1977, 1989, 1994,\n",
       "       2020, 1984, 1986, 1991, 1983, 1953, 1964, 1974, 1987, 1943, 1978,\n",
       "       1965, 1976, 1957, 1980, 1939, 1968, 1947, 1982, 1981, 1973],\n",
       "      dtype=int64)"
      ]
     },
     "execution_count": 17,
     "metadata": {},
     "output_type": "execute_result"
    }
   ],
   "source": [
    "# let's explore the values of these temporal variable(Prod.year)\n",
    "train_all['Prod. year'].unique()"
   ]
  },
  {
   "cell_type": "code",
   "execution_count": 18,
   "metadata": {},
   "outputs": [
    {
     "data": {
      "text/plain": [
       "Text(0.5, 1.0, 'Change in Car price with the years')"
      ]
     },
     "execution_count": 18,
     "metadata": {},
     "output_type": "execute_result"
    },
    {
     "data": {
      "image/png": "[encoded data removed]",
      "text/plain": [
       "<Figure size 432x288 with 1 Axes>"
      ]
     },
     "metadata": {
      "needs_background": "light"
     },
     "output_type": "display_data"
    }
   ],
   "source": [
    "# We can explore the evolution of the sale price with the years in which the house was sold:\n",
    "train_all.groupby('Prod. year')['Price'].median().plot()\n",
    "plt.ylabel('Median Car Price')\n",
    "plt.title('Change in Car price with the years')"
   ]
  },
  {
   "cell_type": "code",
   "execution_count": 19,
   "metadata": {},
   "outputs": [],
   "source": [
    "# From the graph we can see there is spike for vintage cars"
   ]
  },
  {
   "cell_type": "code",
   "execution_count": 20,
   "metadata": {},
   "outputs": [],
   "source": [
    "# Discrete variables\n",
    "\n",
    "# Let's go ahead and find which variables are discrete, i.e., show a finite number of values"
   ]
  },
  {
   "cell_type": "code",
   "execution_count": 21,
   "metadata": {},
   "outputs": [
    {
     "data": {
      "text/html": [
       "<div>\n",
       "<style scoped>\n",
       "    .dataframe tbody tr th:only-of-type {\n",
       "        vertical-align: middle;\n",
       "    }\n",
       "\n",
       "    .dataframe tbody tr th {\n",
       "        vertical-align: top;\n",
       "    }\n",
       "\n",
       "    .dataframe thead th {\n",
       "        text-align: right;\n",
       "    }\n",
       "</style>\n",
       "<table border=\"1\" class=\"dataframe\">\n",
       "  <thead>\n",
       "    <tr style=\"text-align: right;\">\n",
       "      <th></th>\n",
       "      <th>Cylinders</th>\n",
       "      <th>Airbags</th>\n",
       "      <th>Turbo</th>\n",
       "    </tr>\n",
       "  </thead>\n",
       "  <tbody>\n",
       "    <tr>\n",
       "      <th>0</th>\n",
       "      <td>6.0</td>\n",
       "      <td>12</td>\n",
       "      <td>0</td>\n",
       "    </tr>\n",
       "    <tr>\n",
       "      <th>1</th>\n",
       "      <td>6.0</td>\n",
       "      <td>8</td>\n",
       "      <td>0</td>\n",
       "    </tr>\n",
       "    <tr>\n",
       "      <th>2</th>\n",
       "      <td>4.0</td>\n",
       "      <td>2</td>\n",
       "      <td>0</td>\n",
       "    </tr>\n",
       "    <tr>\n",
       "      <th>3</th>\n",
       "      <td>4.0</td>\n",
       "      <td>0</td>\n",
       "      <td>0</td>\n",
       "    </tr>\n",
       "    <tr>\n",
       "      <th>4</th>\n",
       "      <td>4.0</td>\n",
       "      <td>4</td>\n",
       "      <td>0</td>\n",
       "    </tr>\n",
       "  </tbody>\n",
       "</table>\n",
       "</div>"
      ],
      "text/plain": [
       "   Cylinders  Airbags  Turbo\n",
       "0        6.0       12      0\n",
       "1        6.0        8      0\n",
       "2        4.0        2      0\n",
       "3        4.0        0      0\n",
       "4        4.0        4      0"
      ]
     },
     "execution_count": 21,
     "metadata": {},
     "output_type": "execute_result"
    }
   ],
   "source": [
    "#  let's male a list of discrete variables\n",
    "discrete_vars = [var for var in num_vers if len(\n",
    "    train_all[var].unique()) < 20 and var not in['ID','Prod. year']]\n",
    "\n",
    "# let's visualise the discrete variables\n",
    "train_all[discrete_vars].head()"
   ]
  },
  {
   "cell_type": "code",
   "execution_count": 22,
   "metadata": {},
   "outputs": [
    {
     "data": {
      "image/png": "[encoded data removed]",
      "text/plain": [
       "<Figure size 432x288 with 1 Axes>"
      ]
     },
     "metadata": {
      "needs_background": "light"
     },
     "output_type": "display_data"
    },
    {
     "data": {
      "image/png": "[encoded data removed]",
      "text/plain": [
       "<Figure size 432x288 with 1 Axes>"
      ]
     },
     "metadata": {
      "needs_background": "light"
     },
     "output_type": "display_data"
    },
    {
     "data": {
      "image/png": "[encoded data removed]",
      "text/plain": [
       "<Figure size 432x288 with 1 Axes>"
      ]
     },
     "metadata": {
      "needs_background": "light"
     },
     "output_type": "display_data"
    }
   ],
   "source": [
    "# Let's go ahead and analyse their contribution to the Car price.\n",
    "def analyse_discrete(df, var):\n",
    "    df = df.copy()\n",
    "    df.groupby(var)['Price'].median().plot.bar()\n",
    "    plt.title(var)\n",
    "    plt.ylabel('Median SalePrice')\n",
    "    plt.show()\n",
    "    \n",
    "for var in discrete_vars:\n",
    "    analyse_discrete(train_all, var)"
   ]
  },
  {
   "cell_type": "code",
   "execution_count": 23,
   "metadata": {},
   "outputs": [],
   "source": [
    "# Continuous variables\n",
    "\n",
    "# Let's go ahead and find the distribution of the continuous variables. \n",
    "# We will consider continuous variables to all those that are not temporal or discrete variables in our dataset."
   ]
  },
  {
   "cell_type": "code",
   "execution_count": 24,
   "metadata": {},
   "outputs": [
    {
     "data": {
      "text/html": [
       "<div>\n",
       "<style scoped>\n",
       "    .dataframe tbody tr th:only-of-type {\n",
       "        vertical-align: middle;\n",
       "    }\n",
       "\n",
       "    .dataframe tbody tr th {\n",
       "        vertical-align: top;\n",
       "    }\n",
       "\n",
       "    .dataframe thead th {\n",
       "        text-align: right;\n",
       "    }\n",
       "</style>\n",
       "<table border=\"1\" class=\"dataframe\">\n",
       "  <thead>\n",
       "    <tr style=\"text-align: right;\">\n",
       "      <th></th>\n",
       "      <th>Price</th>\n",
       "      <th>Levy</th>\n",
       "      <th>Engine volume</th>\n",
       "      <th>Mileage</th>\n",
       "      <th>Ageofcar</th>\n",
       "    </tr>\n",
       "  </thead>\n",
       "  <tbody>\n",
       "    <tr>\n",
       "      <th>0</th>\n",
       "      <td>13328</td>\n",
       "      <td>1399</td>\n",
       "      <td>3.5</td>\n",
       "      <td>186005</td>\n",
       "      <td>11</td>\n",
       "    </tr>\n",
       "    <tr>\n",
       "      <th>1</th>\n",
       "      <td>16621</td>\n",
       "      <td>1018</td>\n",
       "      <td>3.0</td>\n",
       "      <td>192000</td>\n",
       "      <td>10</td>\n",
       "    </tr>\n",
       "    <tr>\n",
       "      <th>2</th>\n",
       "      <td>8467</td>\n",
       "      <td>0</td>\n",
       "      <td>1.3</td>\n",
       "      <td>200000</td>\n",
       "      <td>15</td>\n",
       "    </tr>\n",
       "    <tr>\n",
       "      <th>3</th>\n",
       "      <td>3607</td>\n",
       "      <td>862</td>\n",
       "      <td>2.5</td>\n",
       "      <td>168966</td>\n",
       "      <td>10</td>\n",
       "    </tr>\n",
       "    <tr>\n",
       "      <th>4</th>\n",
       "      <td>11726</td>\n",
       "      <td>446</td>\n",
       "      <td>1.3</td>\n",
       "      <td>91901</td>\n",
       "      <td>7</td>\n",
       "    </tr>\n",
       "  </tbody>\n",
       "</table>\n",
       "</div>"
      ],
      "text/plain": [
       "   Price  Levy  Engine volume  Mileage  Ageofcar\n",
       "0  13328  1399            3.5   186005        11\n",
       "1  16621  1018            3.0   192000        10\n",
       "2   8467     0            1.3   200000        15\n",
       "3   3607   862            2.5   168966        10\n",
       "4  11726   446            1.3    91901         7"
      ]
     },
     "execution_count": 24,
     "metadata": {},
     "output_type": "execute_result"
    }
   ],
   "source": [
    "# make list of continuous variables\n",
    "cont_vars = [\n",
    "    var for var in num_vers if var not in discrete_vars+['ID','Prod. year']]\n",
    "\n",
    "# let's visualise the discrete variables\n",
    "train_all[cont_vars].head()\n"
   ]
  },
  {
   "cell_type": "code",
   "execution_count": 25,
   "metadata": {},
   "outputs": [
    {
     "data": {
      "image/png": "[encoded data removed]",
      "text/plain": [
       "<Figure size 432x288 with 1 Axes>"
      ]
     },
     "metadata": {
      "needs_background": "light"
     },
     "output_type": "display_data"
    },
    {
     "data": {
      "image/png": "[encoded data removed]",
      "text/plain": [
       "<Figure size 432x288 with 1 Axes>"
      ]
     },
     "metadata": {
      "needs_background": "light"
     },
     "output_type": "display_data"
    },
    {
     "data": {
      "image/png": "[encoded data removed]",
      "text/plain": [
       "<Figure size 432x288 with 1 Axes>"
      ]
     },
     "metadata": {
      "needs_background": "light"
     },
     "output_type": "display_data"
    },
    {
     "data": {
      "image/png": "[encoded data removed]",
      "text/plain": [
       "<Figure size 432x288 with 1 Axes>"
      ]
     },
     "metadata": {
      "needs_background": "light"
     },
     "output_type": "display_data"
    },
    {
     "data": {
      "image/png": "[encoded data removed]",
      "text/plain": [
       "<Figure size 432x288 with 1 Axes>"
      ]
     },
     "metadata": {
      "needs_background": "light"
     },
     "output_type": "display_data"
    }
   ],
   "source": [
    "# Let's go ahead and analyse the distributions of these variables\n",
    "\n",
    "\n",
    "def analyse_continuous(df, var):\n",
    "    df = df.copy()\n",
    "    df[var].hist(bins=30)\n",
    "    plt.ylabel('Number of houses')\n",
    "    plt.xlabel(var)\n",
    "    plt.title(var)\n",
    "    plt.show()\n",
    "\n",
    "\n",
    "for var in cont_vars:\n",
    "    analyse_continuous(train_all, var)"
   ]
  },
  {
   "cell_type": "code",
   "execution_count": 26,
   "metadata": {},
   "outputs": [
    {
     "data": {
      "image/png": "[encoded data removed]",
      "text/plain": [
       "<Figure size 432x288 with 1 Axes>"
      ]
     },
     "metadata": {
      "needs_background": "light"
     },
     "output_type": "display_data"
    },
    {
     "data": {
      "image/png": "[encoded data removed]",
      "text/plain": [
       "<Figure size 432x288 with 1 Axes>"
      ]
     },
     "metadata": {
      "needs_background": "light"
     },
     "output_type": "display_data"
    },
    {
     "data": {
      "image/png": "[encoded data removed]",
      "text/plain": [
       "<Figure size 432x288 with 1 Axes>"
      ]
     },
     "metadata": {
      "needs_background": "light"
     },
     "output_type": "display_data"
    },
    {
     "data": {
      "image/png": "[encoded data removed]",
      "text/plain": [
       "<Figure size 432x288 with 1 Axes>"
      ]
     },
     "metadata": {
      "needs_background": "light"
     },
     "output_type": "display_data"
    },
    {
     "data": {
      "image/png": "[encoded data removed]",
      "text/plain": [
       "<Figure size 432x288 with 1 Axes>"
      ]
     },
     "metadata": {
      "needs_background": "light"
     },
     "output_type": "display_data"
    }
   ],
   "source": [
    "#As we can see, all contineous variables are skewed. \n",
    "# Let's go ahead and analyse the distributions of these variables\n",
    "# after applying a logarithmic transformation\n",
    "\n",
    "\n",
    "def analyse_transformed_continuous(df, var):\n",
    "    df = df.copy()\n",
    "    df[var] = np.log1p(df[var])\n",
    "    df[var].hist(bins=30)\n",
    "    plt.xlabel(var)\n",
    "    plt.title(var)\n",
    "    plt.show()\n",
    "    \n",
    "\n",
    "\n",
    "for var in cont_vars:\n",
    "    analyse_transformed_continuous(train_all, var)"
   ]
  },
  {
   "cell_type": "markdown",
   "metadata": {},
   "source": [
    "We get a better spread of the values for most variables when we use the logarithmic transformation. \n",
    "This engineering step will most likely add performance value to our final model."
   ]
  },
  {
   "cell_type": "code",
   "execution_count": 27,
   "metadata": {},
   "outputs": [
    {
     "data": {
      "image/png": "[encoded data removed]",
      "text/plain": [
       "<Figure size 432x288 with 1 Axes>"
      ]
     },
     "metadata": {
      "needs_background": "light"
     },
     "output_type": "display_data"
    },
    {
     "data": {
      "image/png": "[encoded data removed]",
      "text/plain": [
       "<Figure size 432x288 with 1 Axes>"
      ]
     },
     "metadata": {
      "needs_background": "light"
     },
     "output_type": "display_data"
    },
    {
     "data": {
      "image/png": "[encoded data removed]",
      "text/plain": [
       "<Figure size 432x288 with 1 Axes>"
      ]
     },
     "metadata": {
      "needs_background": "light"
     },
     "output_type": "display_data"
    },
    {
     "data": {
      "image/png": "[encoded data removed]",
      "text/plain": [
       "<Figure size 432x288 with 1 Axes>"
      ]
     },
     "metadata": {
      "needs_background": "light"
     },
     "output_type": "display_data"
    }
   ],
   "source": [
    "# let's explore the relationship between the Car price and\n",
    "# the transformed variables with more detail:\n",
    "\n",
    "\n",
    "def transform_analyse_continuous(df, var):\n",
    "    df = df.copy()\n",
    "    df[var] = np.log1p(df[var])\n",
    "        \n",
    "    # log transform the target (remember it was also skewed)\n",
    "    df['Price'] = np.log1p(df['Price'])\n",
    "\n",
    "    # plot\n",
    "    plt.scatter(df[var], df['Price'])\n",
    "    plt.ylabel('Price')\n",
    "    plt.xlabel(var)\n",
    "    plt.show()\n",
    "\n",
    "for var in cont_vars:\n",
    "    if var != 'Price':\n",
    "        transform_analyse_continuous(train_all, var)"
   ]
  },
  {
   "cell_type": "markdown",
   "metadata": {},
   "source": [
    "From the previous plots, we observe some monotonic associations between Price \n",
    "and the variables to which we applied the log transformation, for example 'Engine volume'."
   ]
  },
  {
   "cell_type": "markdown",
   "metadata": {},
   "source": [
    "### Outliers\n"
   ]
  },
  {
   "cell_type": "markdown",
   "metadata": {},
   "source": [
    "Extreme values may affect the performance of a linear model. Let's find out if we have any in our variables."
   ]
  },
  {
   "cell_type": "code",
   "execution_count": 28,
   "metadata": {},
   "outputs": [
    {
     "data": {
      "image/png": "[encoded data removed]",
      "text/plain": [
       "<Figure size 432x288 with 1 Axes>"
      ]
     },
     "metadata": {
      "needs_background": "light"
     },
     "output_type": "display_data"
    },
    {
     "data": {
      "image/png": "[encoded data removed]",
      "text/plain": [
       "<Figure size 432x288 with 1 Axes>"
      ]
     },
     "metadata": {
      "needs_background": "light"
     },
     "output_type": "display_data"
    },
    {
     "data": {
      "image/png": "[encoded data removed]",
      "text/plain": [
       "<Figure size 432x288 with 1 Axes>"
      ]
     },
     "metadata": {
      "needs_background": "light"
     },
     "output_type": "display_data"
    },
    {
     "data": {
      "image/png": "[encoded data removed]",
      "text/plain": [
       "<Figure size 432x288 with 1 Axes>"
      ]
     },
     "metadata": {
      "needs_background": "light"
     },
     "output_type": "display_data"
    },
    {
     "data": {
      "image/png": "[encoded data removed]",
      "text/plain": [
       "<Figure size 432x288 with 1 Axes>"
      ]
     },
     "metadata": {
      "needs_background": "light"
     },
     "output_type": "display_data"
    }
   ],
   "source": [
    "# let's make boxplots to visualise outliers in the continuous variables\n",
    "\n",
    "\n",
    "def find_outliers(df, var):\n",
    "    df = df.copy()\n",
    "    df[var] = np.log1p(df[var])\n",
    "    df.boxplot(column=var)\n",
    "    plt.title(var)\n",
    "    plt.ylabel(var)\n",
    "    plt.show()\n",
    "\n",
    "\n",
    "for var in cont_vars:\n",
    "    find_outliers(train_all, var)"
   ]
  },
  {
   "cell_type": "code",
   "execution_count": 29,
   "metadata": {},
   "outputs": [],
   "source": [
    "# The majority of the continuous variables seem to contain outliers. \n",
    "#Outliers tend to affect the performance of linear model.Will use Tree based model"
   ]
  },
  {
   "cell_type": "code",
   "execution_count": 30,
   "metadata": {},
   "outputs": [],
   "source": [
    "# Categorical variables\n",
    "\n",
    "# Let's go ahead and analyse the categorical variables present in the dataset."
   ]
  },
  {
   "cell_type": "code",
   "execution_count": 31,
   "metadata": {},
   "outputs": [
    {
     "data": {
      "text/html": [
       "<div>\n",
       "<style scoped>\n",
       "    .dataframe tbody tr th:only-of-type {\n",
       "        vertical-align: middle;\n",
       "    }\n",
       "\n",
       "    .dataframe tbody tr th {\n",
       "        vertical-align: top;\n",
       "    }\n",
       "\n",
       "    .dataframe thead th {\n",
       "        text-align: right;\n",
       "    }\n",
       "</style>\n",
       "<table border=\"1\" class=\"dataframe\">\n",
       "  <thead>\n",
       "    <tr style=\"text-align: right;\">\n",
       "      <th></th>\n",
       "      <th>Manufacturer</th>\n",
       "      <th>Model</th>\n",
       "      <th>Category</th>\n",
       "      <th>Leather interior</th>\n",
       "      <th>Fuel type</th>\n",
       "      <th>Gear box type</th>\n",
       "      <th>Drive wheels</th>\n",
       "      <th>Doors</th>\n",
       "      <th>Wheel</th>\n",
       "      <th>Color</th>\n",
       "    </tr>\n",
       "  </thead>\n",
       "  <tbody>\n",
       "    <tr>\n",
       "      <th>0</th>\n",
       "      <td>LEXUS</td>\n",
       "      <td>RX 450</td>\n",
       "      <td>Jeep</td>\n",
       "      <td>Yes</td>\n",
       "      <td>Hybrid</td>\n",
       "      <td>Automatic</td>\n",
       "      <td>4x4</td>\n",
       "      <td>04-May</td>\n",
       "      <td>Left wheel</td>\n",
       "      <td>Silver</td>\n",
       "    </tr>\n",
       "    <tr>\n",
       "      <th>1</th>\n",
       "      <td>CHEVROLET</td>\n",
       "      <td>Equinox</td>\n",
       "      <td>Jeep</td>\n",
       "      <td>No</td>\n",
       "      <td>Petrol</td>\n",
       "      <td>Tiptronic</td>\n",
       "      <td>4x4</td>\n",
       "      <td>04-May</td>\n",
       "      <td>Left wheel</td>\n",
       "      <td>Black</td>\n",
       "    </tr>\n",
       "    <tr>\n",
       "      <th>2</th>\n",
       "      <td>HONDA</td>\n",
       "      <td>FIT</td>\n",
       "      <td>Hatchback</td>\n",
       "      <td>No</td>\n",
       "      <td>Petrol</td>\n",
       "      <td>Variator</td>\n",
       "      <td>Front</td>\n",
       "      <td>04-May</td>\n",
       "      <td>Right-hand drive</td>\n",
       "      <td>Black</td>\n",
       "    </tr>\n",
       "    <tr>\n",
       "      <th>3</th>\n",
       "      <td>FORD</td>\n",
       "      <td>Escape</td>\n",
       "      <td>Jeep</td>\n",
       "      <td>Yes</td>\n",
       "      <td>Hybrid</td>\n",
       "      <td>Automatic</td>\n",
       "      <td>4x4</td>\n",
       "      <td>04-May</td>\n",
       "      <td>Left wheel</td>\n",
       "      <td>White</td>\n",
       "    </tr>\n",
       "    <tr>\n",
       "      <th>4</th>\n",
       "      <td>HONDA</td>\n",
       "      <td>FIT</td>\n",
       "      <td>Hatchback</td>\n",
       "      <td>Yes</td>\n",
       "      <td>Petrol</td>\n",
       "      <td>Automatic</td>\n",
       "      <td>Front</td>\n",
       "      <td>04-May</td>\n",
       "      <td>Left wheel</td>\n",
       "      <td>Silver</td>\n",
       "    </tr>\n",
       "  </tbody>\n",
       "</table>\n",
       "</div>"
      ],
      "text/plain": [
       "  Manufacturer    Model   Category Leather interior Fuel type Gear box type  \\\n",
       "0        LEXUS   RX 450       Jeep              Yes    Hybrid     Automatic   \n",
       "1    CHEVROLET  Equinox       Jeep               No    Petrol     Tiptronic   \n",
       "2        HONDA      FIT  Hatchback               No    Petrol      Variator   \n",
       "3         FORD   Escape       Jeep              Yes    Hybrid     Automatic   \n",
       "4        HONDA      FIT  Hatchback              Yes    Petrol     Automatic   \n",
       "\n",
       "  Drive wheels   Doors             Wheel   Color  \n",
       "0          4x4  04-May        Left wheel  Silver  \n",
       "1          4x4  04-May        Left wheel   Black  \n",
       "2        Front  04-May  Right-hand drive   Black  \n",
       "3          4x4  04-May        Left wheel   White  \n",
       "4        Front  04-May        Left wheel  Silver  "
      ]
     },
     "execution_count": 31,
     "metadata": {},
     "output_type": "execute_result"
    }
   ],
   "source": [
    "# capture categorical variables in a list\n",
    "cat_vars = [var for var in train_all.columns if train_all[var].dtypes == 'O']\n",
    "\n",
    "# let's visualise the values of the categorical variables\n",
    "train_all[cat_vars].head()"
   ]
  },
  {
   "cell_type": "markdown",
   "metadata": {},
   "source": [
    "### Number of labels: cardinality"
   ]
  },
  {
   "cell_type": "code",
   "execution_count": 32,
   "metadata": {},
   "outputs": [
    {
     "data": {
      "text/plain": [
       "Manufacturer          65\n",
       "Model               1590\n",
       "Category              11\n",
       "Leather interior       2\n",
       "Fuel type              7\n",
       "Gear box type          4\n",
       "Drive wheels           3\n",
       "Doors                  3\n",
       "Wheel                  2\n",
       "Color                 16\n",
       "dtype: int64"
      ]
     },
     "execution_count": 32,
     "metadata": {},
     "output_type": "execute_result"
    }
   ],
   "source": [
    "# Let's evaluate how many different categories are present in each of the variables.\n",
    "\n",
    "train_all[cat_vars].nunique()"
   ]
  },
  {
   "cell_type": "markdown",
   "metadata": {},
   "source": [
    "Model has high cardinality. We have to take care of this."
   ]
  },
  {
   "cell_type": "markdown",
   "metadata": {},
   "source": [
    "### Rare labels"
   ]
  },
  {
   "cell_type": "code",
   "execution_count": 33,
   "metadata": {},
   "outputs": [],
   "source": [
    "# Let's go ahead and investigate now if there are labels that are present only in a small number of houses:"
   ]
  },
  {
   "cell_type": "code",
   "execution_count": 34,
   "metadata": {},
   "outputs": [
    {
     "name": "stdout",
     "output_type": "stream",
     "text": [
      "Manufacturer\n",
      "ACURA           0.000780\n",
      "ALFA ROMEO      0.000208\n",
      "ASTON MARTIN    0.000052\n",
      "BENTLEY         0.000104\n",
      "BUICK           0.000832\n",
      "CADILLAC        0.000728\n",
      "CHRYSLER        0.001352\n",
      "CITROEN         0.000468\n",
      "DAEWOO          0.004730\n",
      "DAIHATSU        0.000676\n",
      "DODGE           0.004730\n",
      "FERRARI         0.000104\n",
      "FIAT            0.004055\n",
      "GAZ             0.000624\n",
      "GMC             0.000780\n",
      "GREATWALL       0.000052\n",
      "HAVAL           0.000052\n",
      "HUMMER          0.000260\n",
      "INFINITI        0.001559\n",
      "ISUZU           0.000208\n",
      "JAGUAR          0.002183\n",
      "JEEP            0.007174\n",
      "LAMBORGHINI     0.000052\n",
      "LANCIA          0.000052\n",
      "LAND ROVER      0.002547\n",
      "LINCOLN         0.000780\n",
      "MASERATI        0.000208\n",
      "MAZDA           0.009513\n",
      "MERCURY         0.000208\n",
      "MINI            0.002495\n",
      "MOSKVICH        0.000208\n",
      "PEUGEOT         0.000884\n",
      "PONTIAC         0.000052\n",
      "PORSCHE         0.002807\n",
      "RENAULT         0.001923\n",
      "ROLLS-ROYCE     0.000104\n",
      "ROVER           0.000156\n",
      "SAAB            0.000104\n",
      "SATURN          0.000052\n",
      "SCION           0.000364\n",
      "SEAT            0.000104\n",
      "SKODA           0.001040\n",
      "SUZUKI          0.003951\n",
      "TESLA           0.000052\n",
      "UAZ             0.000624\n",
      "VAZ             0.002495\n",
      "VOLVO           0.000988\n",
      "ZAZ             0.000104\n",
      "სხვა            0.000104\n",
      "Name: Price, dtype: float64\n",
      "\n",
      "Model\n",
      "09-Mar     0.000104\n",
      "100        0.000104\n",
      "100 NX     0.000052\n",
      "1000       0.000884\n",
      "1111       0.000052\n",
      "             ...   \n",
      "kona       0.000052\n",
      "macan      0.000104\n",
      "macan S    0.000052\n",
      "tC         0.000156\n",
      "xD         0.000156\n",
      "Name: Price, Length: 1571, dtype: float64\n",
      "\n",
      "Category\n",
      "Cabriolet    0.001871\n",
      "Limousine    0.000572\n",
      "Pickup       0.002703\n",
      "Name: Price, dtype: float64\n",
      "\n",
      "Series([], Name: Price, dtype: float64)\n",
      "\n",
      "Fuel type\n",
      "Hydrogen          0.000052\n",
      "Plug-in Hybrid    0.004471\n",
      "Name: Price, dtype: float64\n",
      "\n",
      "Series([], Name: Price, dtype: float64)\n",
      "\n",
      "Series([], Name: Price, dtype: float64)\n",
      "\n",
      "Doors\n",
      ">5    0.006654\n",
      "Name: Price, dtype: float64\n",
      "\n",
      "Series([], Name: Price, dtype: float64)\n",
      "\n",
      "Color\n",
      "Beige            0.006966\n",
      "Brown            0.009721\n",
      "Carnelian red    0.009305\n",
      "Golden           0.007538\n",
      "Pink             0.001352\n",
      "Purple           0.002027\n",
      "Sky blue         0.006342\n",
      "Yellow           0.005510\n",
      "Name: Price, dtype: float64\n",
      "\n"
     ]
    }
   ],
   "source": [
    "def analyse_rare_labels(df, var, rare_perc):\n",
    "    df = df.copy()\n",
    "\n",
    "    # determine the % of observations per category\n",
    "    tmp = df.groupby(var)['Price'].count() / len(df)\n",
    "\n",
    "    # return categories that are rare\n",
    "    return tmp[tmp < rare_perc]\n",
    "\n",
    "# print categories that are present in less than\n",
    "# 1 % of the observations\n",
    "\n",
    "\n",
    "for var in cat_vars:\n",
    "    print(analyse_rare_labels(train_all, var, 0.01))\n",
    "    print()"
   ]
  },
  {
   "cell_type": "code",
   "execution_count": 35,
   "metadata": {},
   "outputs": [],
   "source": [
    "# Some of the categorical variables show multiple labels that are present in less than 1% of the houses. We will engineer these variables in our next video. Labels that are under-represented in the dataset tend to cause over-fitting of machine learning models. That is why we want to remove them.\n",
    "\n",
    "# Finally, we want to explore the relationship between the categories of the different variables and the house sale price:"
   ]
  },
  {
   "cell_type": "code",
   "execution_count": 36,
   "metadata": {},
   "outputs": [
    {
     "data": {
      "image/png": "[encoded data removed]",
      "text/plain": [
       "<Figure size 432x288 with 1 Axes>"
      ]
     },
     "metadata": {
      "needs_background": "light"
     },
     "output_type": "display_data"
    },
    {
     "data": {
      "image/png": "[encoded data removed]",
      "text/plain": [
       "<Figure size 432x288 with 1 Axes>"
      ]
     },
     "metadata": {
      "needs_background": "light"
     },
     "output_type": "display_data"
    },
    {
     "data": {
      "image/png": "[encoded data removed]",
      "text/plain": [
       "<Figure size 432x288 with 1 Axes>"
      ]
     },
     "metadata": {
      "needs_background": "light"
     },
     "output_type": "display_data"
    },
    {
     "data": {
      "image/png": "[encoded data removed]",
      "text/plain": [
       "<Figure size 432x288 with 1 Axes>"
      ]
     },
     "metadata": {
      "needs_background": "light"
     },
     "output_type": "display_data"
    },
    {
     "data": {
      "image/png": "[encoded data removed]",
      "text/plain": [
       "<Figure size 432x288 with 1 Axes>"
      ]
     },
     "metadata": {
      "needs_background": "light"
     },
     "output_type": "display_data"
    },
    {
     "data": {
      "image/png": "[encoded data removed]",
      "text/plain": [
       "<Figure size 432x288 with 1 Axes>"
      ]
     },
     "metadata": {
      "needs_background": "light"
     },
     "output_type": "display_data"
    },
    {
     "data": {
      "image/png": "[encoded data removed]",
      "text/plain": [
       "<Figure size 432x288 with 1 Axes>"
      ]
     },
     "metadata": {
      "needs_background": "light"
     },
     "output_type": "display_data"
    },
    {
     "data": {
      "image/png": "[encoded data removed]",
      "text/plain": [
       "<Figure size 432x288 with 1 Axes>"
      ]
     },
     "metadata": {
      "needs_background": "light"
     },
     "output_type": "display_data"
    },
    {
     "data": {
      "image/png": "[encoded data removed]",
      "text/plain": [
       "<Figure size 432x288 with 1 Axes>"
      ]
     },
     "metadata": {
      "needs_background": "light"
     },
     "output_type": "display_data"
    }
   ],
   "source": [
    "# Finally, we want to explore the relationship between the categories of the different variables and the house sale price:\n",
    "for var in cat_vars:\n",
    "    # we can re-use the function to determine median\n",
    "    # sale price, that we created for discrete variables\n",
    "    if var != 'Model':\n",
    "        analyse_discrete(train_all, var)"
   ]
  },
  {
   "cell_type": "markdown",
   "metadata": {},
   "source": [
    "We will transform these strings / labels into numbers, so that we capture this information and transform it into a monotonic relationship between the category and the Price."
   ]
  },
  {
   "cell_type": "markdown",
   "metadata": {},
   "source": [
    "## Feature Engineering"
   ]
  },
  {
   "cell_type": "markdown",
   "metadata": {},
   "source": [
    "### Numerical variable transformation"
   ]
  },
  {
   "cell_type": "code",
   "execution_count": 37,
   "metadata": {},
   "outputs": [],
   "source": [
    "# As we have seen taking log makes contineous numarical variables well distributed, going to take log transformation\n",
    "\n",
    "for var in cont_vars:\n",
    "    train_all[var] = np.log1p(train_all[var])\n",
    "    if var !='Price':\n",
    "        test_all[var] = np.log1p(test_all[var])\n",
    "        "
   ]
  },
  {
   "cell_type": "markdown",
   "metadata": {},
   "source": [
    "### Categorical variables"
   ]
  },
  {
   "cell_type": "markdown",
   "metadata": {},
   "source": [
    "First, we will group those categories within variables that are present in less than 1% of the observations. \n",
    "That is, all values of categorical variables that are shared by less than 1% of houses, well be replaced by the string \"Rare\"."
   ]
  },
  {
   "cell_type": "code",
   "execution_count": 38,
   "metadata": {},
   "outputs": [],
   "source": [
    "def find_frequent_labels(df, var, rare_perc):\n",
    "    \n",
    "    # function finds the labels that are shared by more than\n",
    "    # a certain % of the houses in the dataset\n",
    "\n",
    "    df = df.copy()\n",
    "\n",
    "    tmp = df.groupby(var)['Price'].count() / len(df)\n",
    "\n",
    "    return tmp[tmp > rare_perc].index\n",
    "\n",
    "\n",
    "for var in cat_vars + ['Prod. year']:\n",
    "    \n",
    "    # find the frequent categories\n",
    "    frequent_ls = find_frequent_labels(train_all, var, 0.01)\n",
    "    \n",
    "    # replace rare categories by the string \"Rare\"\n",
    "    train_all[var] = np.where(train_all[var].isin(\n",
    "        frequent_ls), train_all[var], 'Rare')\n",
    "    \n",
    "    test_all[var] = np.where(test_all[var].isin(\n",
    "        frequent_ls), test_all[var], 'Rare')"
   ]
  },
  {
   "cell_type": "markdown",
   "metadata": {},
   "source": [
    "### Encoding of categorical variables"
   ]
  },
  {
   "cell_type": "markdown",
   "metadata": {},
   "source": [
    "Next, we need to transform the strings of the categorical variables into numbers. \n",
    "We will do it so that we capture the monotonic relationship between the label and the target."
   ]
  },
  {
   "cell_type": "code",
   "execution_count": 39,
   "metadata": {},
   "outputs": [],
   "source": [
    "# this function will assign discrete values to the strings of the variables,\n",
    "# so that the smaller value corresponds to the category that shows the smaller\n",
    "# mean house sale price\n",
    "\n",
    "\n",
    "def replace_categories(train, test, var, target):\n",
    "\n",
    "    # order the categories in a variable from that with the lowest\n",
    "    # house sale price, to that with the highest\n",
    "    ordered_labels = train.groupby([var])[target].mean().sort_values().index\n",
    "\n",
    "    # create a dictionary of ordered categories to integer values\n",
    "    ordinal_label = {k: i for i, k in enumerate(ordered_labels, 0)}\n",
    "\n",
    "    # use the dictionary to replace the categorical strings by integers\n",
    "    train[var] = train[var].map(ordinal_label)\n",
    "    test[var] = test[var].map(ordinal_label)"
   ]
  },
  {
   "cell_type": "code",
   "execution_count": 40,
   "metadata": {},
   "outputs": [],
   "source": [
    "for var in cat_vars + ['Prod. year']:\n",
    "    replace_categories(train_all, test_all, var, 'Price')"
   ]
  },
  {
   "cell_type": "code",
   "execution_count": 41,
   "metadata": {},
   "outputs": [
    {
     "data": {
      "text/plain": [
       "[]"
      ]
     },
     "execution_count": 41,
     "metadata": {},
     "output_type": "execute_result"
    }
   ],
   "source": [
    "# check absence of na in the train set\n",
    "[var for var in train_all.columns if train_all[var].isnull().sum() > 0]"
   ]
  },
  {
   "cell_type": "code",
   "execution_count": 42,
   "metadata": {},
   "outputs": [
    {
     "data": {
      "text/plain": [
       "['Price']"
      ]
     },
     "execution_count": 42,
     "metadata": {},
     "output_type": "execute_result"
    }
   ],
   "source": [
    "# check absence of na in the test set\n",
    "[var for var in test_all.columns if test_all[var].isnull().sum() > 0]"
   ]
  },
  {
   "cell_type": "code",
   "execution_count": 43,
   "metadata": {},
   "outputs": [
    {
     "data": {
      "image/png": "[encoded data removed]",
      "text/plain": [
       "<Figure size 432x288 with 1 Axes>"
      ]
     },
     "metadata": {
      "needs_background": "light"
     },
     "output_type": "display_data"
    },
    {
     "data": {
      "image/png": "[encoded data removed]",
      "text/plain": [
       "<Figure size 432x288 with 1 Axes>"
      ]
     },
     "metadata": {
      "needs_background": "light"
     },
     "output_type": "display_data"
    },
    {
     "data": {
      "image/png": "[encoded data removed]",
      "text/plain": [
       "<Figure size 432x288 with 1 Axes>"
      ]
     },
     "metadata": {
      "needs_background": "light"
     },
     "output_type": "display_data"
    },
    {
     "data": {
      "image/png": "[encoded data removed]",
      "text/plain": [
       "<Figure size 432x288 with 1 Axes>"
      ]
     },
     "metadata": {
      "needs_background": "light"
     },
     "output_type": "display_data"
    },
    {
     "data": {
      "image/png": "[encoded data removed]",
      "text/plain": [
       "<Figure size 432x288 with 1 Axes>"
      ]
     },
     "metadata": {
      "needs_background": "light"
     },
     "output_type": "display_data"
    },
    {
     "data": {
      "image/png": "[encoded data removed]",
      "text/plain": [
       "<Figure size 432x288 with 1 Axes>"
      ]
     },
     "metadata": {
      "needs_background": "light"
     },
     "output_type": "display_data"
    },
    {
     "data": {
      "image/png": "[encoded data removed]",
      "text/plain": [
       "<Figure size 432x288 with 1 Axes>"
      ]
     },
     "metadata": {
      "needs_background": "light"
     },
     "output_type": "display_data"
    },
    {
     "data": {
      "image/png": "[encoded data removed]",
      "text/plain": [
       "<Figure size 432x288 with 1 Axes>"
      ]
     },
     "metadata": {
      "needs_background": "light"
     },
     "output_type": "display_data"
    },
    {
     "data": {
      "image/png": "[encoded data removed]",
      "text/plain": [
       "<Figure size 432x288 with 1 Axes>"
      ]
     },
     "metadata": {
      "needs_background": "light"
     },
     "output_type": "display_data"
    },
    {
     "data": {
      "image/png": "[encoded data removed]",
      "text/plain": [
       "<Figure size 432x288 with 1 Axes>"
      ]
     },
     "metadata": {
      "needs_background": "light"
     },
     "output_type": "display_data"
    },
    {
     "data": {
      "image/png": "[encoded data removed]",
      "text/plain": [
       "<Figure size 432x288 with 1 Axes>"
      ]
     },
     "metadata": {
      "needs_background": "light"
     },
     "output_type": "display_data"
    }
   ],
   "source": [
    "# let me show you what I mean by monotonic relationship\n",
    "# between labels and target\n",
    "\n",
    "def analyse_vars(df, var):\n",
    "    \n",
    "    # function plots median house sale price per encoded\n",
    "    # category\n",
    "    \n",
    "    df = df.copy()\n",
    "    df.groupby(var)['Price'].median().plot.bar()\n",
    "    plt.title(var)\n",
    "    plt.ylabel('Price')\n",
    "    plt.show()\n",
    "    \n",
    "for var in cat_vars+['Prod. year']:\n",
    "    analyse_vars(train_all, var)"
   ]
  },
  {
   "cell_type": "code",
   "execution_count": 44,
   "metadata": {},
   "outputs": [
    {
     "data": {
      "text/html": [
       "<div>\n",
       "<style scoped>\n",
       "    .dataframe tbody tr th:only-of-type {\n",
       "        vertical-align: middle;\n",
       "    }\n",
       "\n",
       "    .dataframe tbody tr th {\n",
       "        vertical-align: top;\n",
       "    }\n",
       "\n",
       "    .dataframe thead th {\n",
       "        text-align: right;\n",
       "    }\n",
       "</style>\n",
       "<table border=\"1\" class=\"dataframe\">\n",
       "  <thead>\n",
       "    <tr style=\"text-align: right;\">\n",
       "      <th></th>\n",
       "      <th>Levy</th>\n",
       "      <th>Manufacturer</th>\n",
       "      <th>Model</th>\n",
       "      <th>Prod. year</th>\n",
       "      <th>Category</th>\n",
       "      <th>Leather interior</th>\n",
       "      <th>Fuel type</th>\n",
       "      <th>Engine volume</th>\n",
       "      <th>Mileage</th>\n",
       "      <th>Cylinders</th>\n",
       "      <th>Gear box type</th>\n",
       "      <th>Drive wheels</th>\n",
       "      <th>Doors</th>\n",
       "      <th>Wheel</th>\n",
       "      <th>Color</th>\n",
       "      <th>Airbags</th>\n",
       "      <th>Turbo</th>\n",
       "      <th>Ageofcar</th>\n",
       "    </tr>\n",
       "  </thead>\n",
       "  <tbody>\n",
       "    <tr>\n",
       "      <th>0</th>\n",
       "      <td>0.000000</td>\n",
       "      <td>8</td>\n",
       "      <td>10</td>\n",
       "      <td>13</td>\n",
       "      <td>0</td>\n",
       "      <td>1</td>\n",
       "      <td>4</td>\n",
       "      <td>1.098612</td>\n",
       "      <td>0.000000</td>\n",
       "      <td>4</td>\n",
       "      <td>1</td>\n",
       "      <td>2</td>\n",
       "      <td>1</td>\n",
       "      <td>1</td>\n",
       "      <td>6</td>\n",
       "      <td>10</td>\n",
       "      <td>1</td>\n",
       "      <td>2.302585</td>\n",
       "    </tr>\n",
       "    <tr>\n",
       "      <th>1</th>\n",
       "      <td>0.000000</td>\n",
       "      <td>15</td>\n",
       "      <td>12</td>\n",
       "      <td>13</td>\n",
       "      <td>1</td>\n",
       "      <td>0</td>\n",
       "      <td>2</td>\n",
       "      <td>1.223775</td>\n",
       "      <td>10.165890</td>\n",
       "      <td>4</td>\n",
       "      <td>3</td>\n",
       "      <td>2</td>\n",
       "      <td>0</td>\n",
       "      <td>1</td>\n",
       "      <td>6</td>\n",
       "      <td>10</td>\n",
       "      <td>0</td>\n",
       "      <td>2.302585</td>\n",
       "    </tr>\n",
       "    <tr>\n",
       "      <th>2</th>\n",
       "      <td>0.000000</td>\n",
       "      <td>2</td>\n",
       "      <td>10</td>\n",
       "      <td>2</td>\n",
       "      <td>1</td>\n",
       "      <td>1</td>\n",
       "      <td>2</td>\n",
       "      <td>0.916291</td>\n",
       "      <td>12.031725</td>\n",
       "      <td>4</td>\n",
       "      <td>0</td>\n",
       "      <td>2</td>\n",
       "      <td>0</td>\n",
       "      <td>0</td>\n",
       "      <td>7</td>\n",
       "      <td>8</td>\n",
       "      <td>0</td>\n",
       "      <td>2.833213</td>\n",
       "    </tr>\n",
       "    <tr>\n",
       "      <th>3</th>\n",
       "      <td>6.883463</td>\n",
       "      <td>10</td>\n",
       "      <td>10</td>\n",
       "      <td>13</td>\n",
       "      <td>3</td>\n",
       "      <td>0</td>\n",
       "      <td>2</td>\n",
       "      <td>1.435085</td>\n",
       "      <td>11.870607</td>\n",
       "      <td>6</td>\n",
       "      <td>0</td>\n",
       "      <td>0</td>\n",
       "      <td>0</td>\n",
       "      <td>1</td>\n",
       "      <td>2</td>\n",
       "      <td>12</td>\n",
       "      <td>0</td>\n",
       "      <td>2.302585</td>\n",
       "    </tr>\n",
       "    <tr>\n",
       "      <th>4</th>\n",
       "      <td>0.000000</td>\n",
       "      <td>5</td>\n",
       "      <td>10</td>\n",
       "      <td>1</td>\n",
       "      <td>0</td>\n",
       "      <td>1</td>\n",
       "      <td>2</td>\n",
       "      <td>0.955511</td>\n",
       "      <td>12.206078</td>\n",
       "      <td>4</td>\n",
       "      <td>1</td>\n",
       "      <td>2</td>\n",
       "      <td>0</td>\n",
       "      <td>1</td>\n",
       "      <td>3</td>\n",
       "      <td>0</td>\n",
       "      <td>0</td>\n",
       "      <td>3.367296</td>\n",
       "    </tr>\n",
       "  </tbody>\n",
       "</table>\n",
       "</div>"
      ],
      "text/plain": [
       "       Levy  Manufacturer  Model  Prod. year  Category  Leather interior  \\\n",
       "0  0.000000             8     10          13         0                 1   \n",
       "1  0.000000            15     12          13         1                 0   \n",
       "2  0.000000             2     10           2         1                 1   \n",
       "3  6.883463            10     10          13         3                 0   \n",
       "4  0.000000             5     10           1         0                 1   \n",
       "\n",
       "   Fuel type  Engine volume    Mileage  Cylinders  Gear box type  \\\n",
       "0          4       1.098612   0.000000          4              1   \n",
       "1          2       1.223775  10.165890          4              3   \n",
       "2          2       0.916291  12.031725          4              0   \n",
       "3          2       1.435085  11.870607          6              0   \n",
       "4          2       0.955511  12.206078          4              1   \n",
       "\n",
       "   Drive wheels  Doors  Wheel  Color  Airbags  Turbo  Ageofcar  \n",
       "0             2      1      1      6       10      1  2.302585  \n",
       "1             2      0      1      6       10      0  2.302585  \n",
       "2             2      0      0      7        8      0  2.833213  \n",
       "3             0      0      1      2       12      0  2.302585  \n",
       "4             2      0      1      3        0      0  3.367296  "
      ]
     },
     "execution_count": 44,
     "metadata": {},
     "output_type": "execute_result"
    }
   ],
   "source": [
    "#Selecting final features \n",
    "\n",
    "final_features = [var for var in train_all.columns if var not in ['ID','Price'] ]\n",
    "test_all[final_features].head()"
   ]
  },
  {
   "cell_type": "code",
   "execution_count": 45,
   "metadata": {},
   "outputs": [],
   "source": [
    "#Deviding data into dependent and independent set for predicting FitmentPercent\n",
    "X = train_all[final_features].values\n",
    "y = train_all.Price.values"
   ]
  },
  {
   "cell_type": "code",
   "execution_count": 46,
   "metadata": {},
   "outputs": [],
   "source": [
    "#Scaling the data\n",
    "\n",
    "from sklearn.preprocessing import StandardScaler\n",
    "scaller = StandardScaler()\n",
    "X = scaller.fit_transform(X) \n",
    "test_all[final_features] = scaller.transform(test_all[final_features])"
   ]
  },
  {
   "cell_type": "code",
   "execution_count": 47,
   "metadata": {},
   "outputs": [],
   "source": [
    "# Optimizing the parameters for regression\n",
    "\n",
    "# def optimize(params, x,y):\n",
    "#     model = XGBRegressor(**params)\n",
    "#     kf = model_selection.KFold(n_splits=5)\n",
    "#     accuracies = []\n",
    "#     for idx in kf.split(X=x,y=y):\n",
    "#         train_idx,test_idx = idx[0],idx[1]\n",
    "#         xtrain = x[train_idx]\n",
    "#         ytrain = y[train_idx]\n",
    "        \n",
    "#         xtest = x[test_idx]\n",
    "#         ytest = y[test_idx]\n",
    "        \n",
    "#         model.fit(xtrain,ytrain)\n",
    "#         preds =  model.predict(xtest)\n",
    "        \n",
    "# #         fold_acc = r2_score(np.expm1(ytest), np.expm1(preds))\n",
    "        \n",
    "# #         fold_acc = np.sqrt(mean_squared_log_error(ytest,preds))\n",
    "\n",
    "#         fold_acc = r2_score(ytest,preds)\n",
    "#         accuracies.append(fold_acc)\n",
    "#     return -1.0 * np.mean(accuracies)\n",
    "\n",
    "# param_space = {\n",
    "#     \"max_depth\" : scope.int(hp.quniform(\"max_depth\",3,20, 1)) ,\n",
    "#     \"min_child_weight\" : scope.int(hp.quniform(\"min_child_weight\",1,8, 1)),\n",
    "#     \"n_estimators\": scope.int(hp.quniform(\"n_estimators\",100,1500,1)),\n",
    "#     'learning_rate': hp.uniform(\"learning_rate\",0.01,1),\n",
    "#     'reg_lambda': hp.uniform(\"reg_lambda\",0.01,1),\n",
    "#     'gamma': hp.uniform(\"gamma\",0.01,1),\n",
    "#     'subsample': hp.uniform(\"subsample\",0.01,1)\n",
    "#     }\n",
    "    \n",
    "# optimization_fuction = partial(optimize,x = X, y = y) \n",
    "# trials = Trials()\n",
    "# result = fmin(\n",
    "#     fn = optimization_fuction,\n",
    "#     space = param_space,\n",
    "#     algo = tpe.suggest,\n",
    "#     max_evals = 10,\n",
    "#     trials = trials\n",
    "# )\n",
    "# print(result)"
   ]
  },
  {
   "cell_type": "code",
   "execution_count": 48,
   "metadata": {},
   "outputs": [],
   "source": [
    "#Final Model\n",
    "Xgb_regressor = XGBRegressor(gamma= 0.5426880200730636, \n",
    "                             learning_rate = 0.05597428082575337,\n",
    "                             max_depth = 17,\n",
    "                             min_child_weight = 2, \n",
    "                             n_estimators = 1238,\n",
    "                             reg_lambda = 0.9854720412382376,\n",
    "                             subsample = 0.4963644513337918)\n",
    "\n"
   ]
  },
  {
   "cell_type": "code",
   "execution_count": 49,
   "metadata": {},
   "outputs": [
    {
     "name": "stdout",
     "output_type": "stream",
     "text": [
      "0.25342413015366927\n",
      "0.6968166394532589\n"
     ]
    },
    {
     "data": {
      "image/png": "[encoded data removed]",
      "text/plain": [
       "<Figure size 720x504 with 1 Axes>"
      ]
     },
     "metadata": {
      "needs_background": "light"
     },
     "output_type": "display_data"
    }
   ],
   "source": [
    "#Getting the test prediction\n",
    "Xgb_regressor.fit(X,y)\n",
    "Reg_pred = Xgb_regressor.predict(X)\n",
    "\n",
    "error = np.sqrt(mean_squared_log_error(np.expm1(y), np.expm1(Reg_pred)))\n",
    "r2=r2_score(np.expm1(y), np.expm1(Reg_pred))\n",
    "print(error)\n",
    "print(r2)\n",
    "\n",
    "#Ploting the prediction on train set\n",
    "plt.figure(figsize=[10,7])\n",
    "plt.plot(np.expm1(y),np.expm1(y),color='red')\n",
    "plt.scatter(np.expm1(y),np.expm1(Reg_pred))\n",
    "\n",
    "plt.show()\n",
    "\n",
    "# 0.2547824571682838\n",
    "# 0.771597957597467"
   ]
  },
  {
   "cell_type": "code",
   "execution_count": 50,
   "metadata": {},
   "outputs": [],
   "source": [
    "#Now, for getting the prediction for the test set\n",
    "\n",
    "test_all['Price'] = np.expm1(Xgb_regressor.predict(test_all[final_features].values)) "
   ]
  },
  {
   "cell_type": "code",
   "execution_count": 51,
   "metadata": {},
   "outputs": [],
   "source": [
    "#Saving final output\n",
    "test_all['Price'].to_csv('submission.csv', index=False)"
   ]
  },
  {
   "cell_type": "code",
   "execution_count": null,
   "metadata": {},
   "outputs": [],
   "source": []
  },
  {
   "cell_type": "code",
   "execution_count": null,
   "metadata": {},
   "outputs": [],
   "source": []
  }
 ],
 "metadata": {
  "kernelspec": {
   "display_name": "Python 3",
   "language": "python",
   "name": "python3"
  },
  "language_info": {
   "codemirror_mode": {
    "name": "ipython",
    "version": 3
   },
   "file_extension": ".py",
   "mimetype": "text/x-python",
   "name": "python",
   "nbconvert_exporter": "python",
   "pygments_lexer": "ipython3",
   "version": "3.8.3"
  }
 },
 "nbformat": 4,
 "nbformat_minor": 4
}
